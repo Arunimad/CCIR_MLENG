{
  "nbformat": 4,
  "nbformat_minor": 0,
  "metadata": {
    "colab": {
      "provenance": [],
      "authorship_tag": "ABX9TyMC+QIr1pxlkwGmksOo8y0d",
      "include_colab_link": true
    },
    "kernelspec": {
      "name": "python3",
      "display_name": "Python 3"
    },
    "language_info": {
      "name": "python"
    }
  },
  "cells": [
    {
      "cell_type": "markdown",
      "metadata": {
        "id": "view-in-github",
        "colab_type": "text"
      },
      "source": [
        "<a href=\"https://colab.research.google.com/github/Arunimad/CCIR_MLENG/blob/main/Optimisation_Codes.ipynb\" target=\"_parent\"><img src=\"https://colab.research.google.com/assets/colab-badge.svg\" alt=\"Open In Colab\"/></a>"
      ]
    },
    {
      "cell_type": "markdown",
      "source": [
        "SODA CAN PROBLEM - CODE SOLUTION"
      ],
      "metadata": {
        "id": "gtNo3_rTsgPF"
      }
    },
    {
      "cell_type": "markdown",
      "source": [
        "1. Objective Function\n",
        "The objective function calculates the surface area of the can, which is a proxy for material cost:"
      ],
      "metadata": {
        "id": "OdbTYE_-rlI_"
      }
    },
    {
      "cell_type": "code",
      "execution_count": null,
      "metadata": {
        "id": "L04o51fOpFMQ"
      },
      "outputs": [],
      "source": [
        "def cost(x):\n",
        "    radius, height = x\n",
        "    return 2 * 3.1416 * radius * (radius + height)  # Surface area\n"
      ]
    },
    {
      "cell_type": "markdown",
      "source": [
        "radius: Radius of the can (cm)\n",
        "\n",
        "height: Height of the can (cm)\n",
        "\n",
        "Surface area formula:\n",
        "2\n",
        "π\n",
        "r\n",
        "(\n",
        "r\n",
        "+\n",
        "h\n",
        ")\n",
        "\n",
        "\n"
      ],
      "metadata": {
        "id": "FWlIyDIDrm9u"
      }
    },
    {
      "cell_type": "markdown",
      "source": [
        "2. Constraint Function\n",
        "The constraint ensures the can’s volume is exactly 330 ml (cm³):"
      ],
      "metadata": {
        "id": "l3YAe9nqrrx2"
      }
    },
    {
      "cell_type": "code",
      "source": [
        "def volume_constraint(x):\n",
        "    radius, height = x\n",
        "    return 3.1416 * radius**2 * height - 330\n"
      ],
      "metadata": {
        "id": "7IflpHpTrrge"
      },
      "execution_count": null,
      "outputs": []
    },
    {
      "cell_type": "markdown",
      "source": [
        "Volume formula:\n",
        "π\n",
        "r\n",
        "2\n",
        "h\n",
        "\n",
        "\n",
        "Constraint:\n",
        "π\n",
        "r\n",
        "2\n",
        "h\n",
        "=\n",
        "330\n",
        " (so the function returns zero when the volume is correct)"
      ],
      "metadata": {
        "id": "07yZEF_OrvXd"
      }
    },
    {
      "cell_type": "markdown",
      "source": [
        "3. Initial Guess and Bounds\n",
        "This defines the starting point and reasonable limits for the optimization:"
      ],
      "metadata": {
        "id": "R7sP_7ckrw-W"
      }
    },
    {
      "cell_type": "code",
      "source": [
        "x0 = [3, 10]           # Initial guess: radius=3cm, height=10cm\n",
        "bounds = [(2, 5), (8, 15)]  # Bounds: radius between 2-5cm, height between 8-15cm\n"
      ],
      "metadata": {
        "id": "_lJjQzsGrqHu"
      },
      "execution_count": null,
      "outputs": []
    },
    {
      "cell_type": "markdown",
      "source": [
        "x0: Starting values for radius and height\n",
        "\n",
        "bounds: Physical limits to keep the solution realistic"
      ],
      "metadata": {
        "id": "AsrH-Bt5r0bG"
      }
    },
    {
      "cell_type": "code",
      "source": [
        "from scipy.optimize import minimize"
      ],
      "metadata": {
        "id": "6ME5Jgi_sVFd"
      },
      "execution_count": null,
      "outputs": []
    },
    {
      "cell_type": "markdown",
      "source": [
        "4. Optimization Setup\n",
        "This prepares the constraint and calls the optimizer:"
      ],
      "metadata": {
        "id": "vUsa-pgjr1ld"
      }
    },
    {
      "cell_type": "code",
      "source": [
        "from scipy.optimize import minimize\n",
        "\n",
        "constraints = {'type': 'eq', 'fun': volume_constraint}\n",
        "res = minimize(cost, x0, bounds=bounds, constraints=constraints)\n",
        "print(res.x)"
      ],
      "metadata": {
        "id": "jPozXzP7r23V",
        "colab": {
          "base_uri": "https://localhost:8080/"
        },
        "outputId": "2c4f953a-c158-46ad-b09e-f379b4ee2cf4"
      },
      "execution_count": null,
      "outputs": [
        {
          "output_type": "stream",
          "name": "stdout",
          "text": [
            "[3.62356897 8.        ]\n"
          ]
        }
      ]
    },
    {
      "cell_type": "markdown",
      "source": [
        "constraints: Specifies that the volume constraint must be exactly satisfied\n",
        "\n",
        "minimize: Uses the SciPy optimizer to minimize the surface area (cost) under the given constraints"
      ],
      "metadata": {
        "id": "z66qoj2Ir479"
      }
    },
    {
      "cell_type": "markdown",
      "source": [
        "5. Output\n",
        "The optimizer finds the values of radius and height that minimize surface area while keeping the volume at 330 ml."
      ],
      "metadata": {
        "id": "LezpWk3lr6fd"
      }
    }
  ]
}