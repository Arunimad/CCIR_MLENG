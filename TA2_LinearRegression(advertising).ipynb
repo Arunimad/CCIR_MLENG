{
  "nbformat": 4,
  "nbformat_minor": 0,
  "metadata": {
    "colab": {
      "provenance": [],
      "authorship_tag": "ABX9TyOdBeYmSjcj8g/36UYWHtyX",
      "include_colab_link": true
    },
    "kernelspec": {
      "name": "python3",
      "display_name": "Python 3"
    },
    "language_info": {
      "name": "python"
    }
  },
  "cells": [
    {
      "cell_type": "markdown",
      "metadata": {
        "id": "view-in-github",
        "colab_type": "text"
      },
      "source": [
        "<a href=\"https://colab.research.google.com/github/Arunimad/CCIR_MLENG/blob/main/TA2_LinearRegression(advertising).ipynb\" target=\"_parent\"><img src=\"https://colab.research.google.com/assets/colab-badge.svg\" alt=\"Open In Colab\"/></a>"
      ]
    },
    {
      "cell_type": "code",
      "execution_count": null,
      "metadata": {
        "id": "ogAR0Gcb41Jy"
      },
      "outputs": [],
      "source": [
        "%matplotlib inline\n",
        "import matplotlib.pyplot as plt\n",
        "#plt.style.use('seaborn-whitegrid')\n",
        "import numpy as np"
      ]
    },
    {
      "cell_type": "markdown",
      "metadata": {
        "deletable": true,
        "editable": true,
        "id": "Y7c2aXCD2Gqt"
      },
      "source": [
        "## Simple Linear Regression\n",
        "\n",
        "\n",
        "A straight-line fit is a model of the form:\n",
        "$$\n",
        "y = ax + b\n",
        "$$\n",
        "where $a$ is commonly known as the *slope*, and $b$ is commonly known as the *intercept*.\n",
        "\n",
        "Consider the following data, which is scattered about a line with a slope of 2 and an intercept of –5 (see the following figure):"
      ]
    },
    {
      "cell_type": "code",
      "execution_count": null,
      "metadata": {
        "deletable": true,
        "editable": true,
        "jupyter": {
          "outputs_hidden": false
        },
        "id": "hp9a32hJ2Gqu"
      },
      "outputs": [],
      "source": [
        "rng = np.random.RandomState(1)\n",
        "x = 10 * rng.rand(50)\n",
        "y = 2 * x - 5 + rng.randn(50)\n",
        "plt.scatter(x, y);"
      ]
    },
    {
      "cell_type": "code",
      "execution_count": null,
      "metadata": {
        "deletable": true,
        "editable": true,
        "jupyter": {
          "outputs_hidden": false
        },
        "id": "RyrxzlOr2Gqv"
      },
      "outputs": [],
      "source": [
        "from sklearn.linear_model import LinearRegression\n",
        "model = LinearRegression(fit_intercept=True)\n",
        "\n",
        "model.fit(x[:, np.newaxis], y)\n",
        "\n",
        "xfit = np.linspace(0, 10, 1000)\n",
        "yfit = model.predict(xfit[:, np.newaxis])\n",
        "\n",
        "plt.scatter(x, y)\n",
        "plt.plot(xfit, yfit);"
      ]
    },
    {
      "cell_type": "code",
      "execution_count": null,
      "metadata": {
        "deletable": true,
        "editable": true,
        "jupyter": {
          "outputs_hidden": false
        },
        "id": "zJwz4N1g2Gqw"
      },
      "outputs": [],
      "source": [
        "print(\"Model slope:    \", model.coef_[0])\n",
        "print(\"Model intercept:\", model.intercept_)"
      ]
    },
    {
      "cell_type": "markdown",
      "source": [
        "Can be extended to polynomial"
      ],
      "metadata": {
        "id": "EQXBNHMP57Py"
      }
    },
    {
      "cell_type": "code",
      "execution_count": null,
      "metadata": {
        "deletable": true,
        "editable": true,
        "jupyter": {
          "outputs_hidden": false
        },
        "id": "vJqOTLAo2Gqy"
      },
      "outputs": [],
      "source": [
        "from sklearn.preprocessing import PolynomialFeatures\n",
        "x = np.array([2, 3, 4])\n",
        "poly = PolynomialFeatures(3, include_bias=False)\n",
        "poly.fit_transform(x[:, None])"
      ]
    },
    {
      "cell_type": "markdown",
      "source": [
        "Using pipeline for higher dimensional data\n",
        "(7th-degree polynomial model)"
      ],
      "metadata": {
        "id": "T1zDxb4R6EFE"
      }
    },
    {
      "cell_type": "code",
      "execution_count": null,
      "metadata": {
        "deletable": true,
        "editable": true,
        "tags": [],
        "id": "cWbU5hza2Gqy"
      },
      "outputs": [],
      "source": [
        "from sklearn.pipeline import make_pipeline\n",
        "poly_model = make_pipeline(PolynomialFeatures(7),\n",
        "                           LinearRegression())"
      ]
    },
    {
      "cell_type": "code",
      "source": [
        "rng = np.random.RandomState(1)\n",
        "x = 10 * rng.rand(50)\n",
        "y = np.sin(x) + 0.1 * rng.randn(50)\n",
        "\n",
        "poly_model.fit(x[:, np.newaxis], y)\n",
        "yfit = poly_model.predict(xfit[:, np.newaxis])\n",
        "\n",
        "plt.scatter(x, y)\n",
        "plt.plot(xfit, yfit);"
      ],
      "metadata": {
        "id": "c6Mc6kBq6IM9"
      },
      "execution_count": null,
      "outputs": []
    },
    {
      "cell_type": "markdown",
      "source": [
        "Even a Gaussian model"
      ],
      "metadata": {
        "id": "jMiiF1k96SsT"
      }
    },
    {
      "cell_type": "code",
      "execution_count": null,
      "metadata": {
        "deletable": true,
        "editable": true,
        "jupyter": {
          "outputs_hidden": false
        },
        "id": "mCglkMsz2Gqz"
      },
      "outputs": [],
      "source": [
        "from sklearn.base import BaseEstimator, TransformerMixin\n",
        "\n",
        "class GaussianFeatures(BaseEstimator, TransformerMixin):\n",
        "    \"\"\"Uniformly spaced Gaussian features for one-dimensional input\"\"\"\n",
        "\n",
        "    def __init__(self, N, width_factor=2.0):\n",
        "        self.N = N\n",
        "        self.width_factor = width_factor\n",
        "\n",
        "    @staticmethod\n",
        "    def _gauss_basis(x, y, width, axis=None):\n",
        "        arg = (x - y) / width\n",
        "        return np.exp(-0.5 * np.sum(arg ** 2, axis))\n",
        "\n",
        "    def fit(self, X, y=None):\n",
        "        # create N centers spread along the data range\n",
        "        self.centers_ = np.linspace(X.min(), X.max(), self.N)\n",
        "        self.width_ = self.width_factor * (self.centers_[1] - self.centers_[0])\n",
        "        return self\n",
        "\n",
        "    def transform(self, X):\n",
        "        return self._gauss_basis(X[:, :, np.newaxis], self.centers_,\n",
        "                                 self.width_, axis=1)\n",
        "\n",
        "gauss_model = make_pipeline(GaussianFeatures(20),\n",
        "                            LinearRegression())\n",
        "gauss_model.fit(x[:, np.newaxis], y)\n",
        "yfit = gauss_model.predict(xfit[:, np.newaxis])\n",
        "\n",
        "plt.scatter(x, y)\n",
        "plt.plot(xfit, yfit)\n",
        "plt.xlim(0, 10);"
      ]
    },
    {
      "cell_type": "markdown",
      "source": [
        "**Now - Lets try to understand a bit more of Regresion (This time without Scikit learn)**"
      ],
      "metadata": {
        "id": "dIqI7ROH6dLE"
      }
    },
    {
      "cell_type": "code",
      "source": [
        "#importing required Library\n",
        "\n",
        "import numpy as np\n",
        "\n",
        "import pandas as pd\n",
        "\n",
        "import matplotlib.pyplot as plt\n",
        "\n",
        "import seaborn as sns\n",
        "\n",
        "#model building Library\n",
        "\n",
        "import statsmodels\n",
        "\n",
        "import statsmodels.api as sm\n",
        "\n",
        "import sklearn\n",
        "\n",
        "from sklearn.model_selection import train_test_split"
      ],
      "metadata": {
        "id": "owG9VfTO6hxU"
      },
      "execution_count": null,
      "outputs": []
    },
    {
      "cell_type": "code",
      "source": [
        "adv=pd.read_csv('https://raw.githubusercontent.com/Arunimad/CCIR_MLENG/main/advertising.csv')"
      ],
      "metadata": {
        "id": "inDgNntv7oXV"
      },
      "execution_count": null,
      "outputs": []
    },
    {
      "cell_type": "code",
      "source": [
        "adv.head()"
      ],
      "metadata": {
        "id": "J1s2Du517o2M"
      },
      "execution_count": null,
      "outputs": []
    },
    {
      "cell_type": "code",
      "source": [
        "adv.tail()"
      ],
      "metadata": {
        "id": "EtS1MzpBQ6eH"
      },
      "execution_count": null,
      "outputs": []
    },
    {
      "cell_type": "code",
      "source": [
        "adv.shape"
      ],
      "metadata": {
        "id": "D1GAws_-7r2b"
      },
      "execution_count": null,
      "outputs": []
    },
    {
      "cell_type": "code",
      "source": [
        "adv.info()"
      ],
      "metadata": {
        "id": "gBGrN5kz7tZq"
      },
      "execution_count": null,
      "outputs": []
    },
    {
      "cell_type": "code",
      "source": [
        "adv.describe()"
      ],
      "metadata": {
        "id": "NBzFxb8u7ukI"
      },
      "execution_count": null,
      "outputs": []
    },
    {
      "cell_type": "code",
      "source": [
        "sns.regplot(x='TV', y='Sales', data=adv)"
      ],
      "metadata": {
        "id": "vb8BT_IX7wD4"
      },
      "execution_count": null,
      "outputs": []
    },
    {
      "cell_type": "code",
      "source": [
        "sns.regplot(x='Radio', y='Sales', data=adv)"
      ],
      "metadata": {
        "id": "wHR25Swh7xlY"
      },
      "execution_count": null,
      "outputs": []
    },
    {
      "cell_type": "code",
      "source": [
        "sns.regplot(x='Newspaper', y='Sales', data=adv)"
      ],
      "metadata": {
        "id": "vOn2ja6F7zf7"
      },
      "execution_count": null,
      "outputs": []
    },
    {
      "cell_type": "code",
      "source": [
        "sns.pairplot(data=adv, x_vars=['TV', 'Radio', 'Newspaper'], y_vars='Sales')"
      ],
      "metadata": {
        "id": "HoVJfk5F71Tc"
      },
      "execution_count": null,
      "outputs": []
    },
    {
      "cell_type": "code",
      "source": [
        "adv.corr()"
      ],
      "metadata": {
        "id": "gd5k_TDM72pk"
      },
      "execution_count": null,
      "outputs": []
    },
    {
      "cell_type": "code",
      "source": [
        "sns.heatmap(adv.corr())"
      ],
      "metadata": {
        "id": "Et64SWhn73sQ"
      },
      "execution_count": null,
      "outputs": []
    },
    {
      "cell_type": "code",
      "source": [
        "sns.heatmap(adv.corr(), annot=True)"
      ],
      "metadata": {
        "id": "n7akGBZj745k"
      },
      "execution_count": null,
      "outputs": []
    },
    {
      "cell_type": "markdown",
      "source": [
        "![image.png](data:image/png;base64,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)\n"
      ],
      "metadata": {
        "id": "DfqfUZlQ76QQ"
      }
    },
    {
      "cell_type": "markdown",
      "source": [
        "Model Building\n",
        "Steps:\n",
        "\n",
        "\n",
        "Create X and y\n",
        "\n",
        "Create Train and Test sets(70-30, 80-20)\n",
        "\n",
        "Training the model on training set (i.e. learn the coefficient)\n",
        "\n",
        "Evaluate the model ( Training set, test set)"
      ],
      "metadata": {
        "id": "ZuPoHvWb779N"
      }
    },
    {
      "cell_type": "markdown",
      "source": [
        "1. Create X and y"
      ],
      "metadata": {
        "id": "WTz0dL0Q8MQa"
      }
    },
    {
      "cell_type": "code",
      "source": [
        "X=adv['TV']\n",
        "\n",
        "y=adv['Sales']"
      ],
      "metadata": {
        "id": "vpkkftGg8Iuq"
      },
      "execution_count": null,
      "outputs": []
    },
    {
      "cell_type": "markdown",
      "source": [
        "2. Create Train and Test sets(70-30, 80-20)"
      ],
      "metadata": {
        "id": "jTqJ1TdA8NrV"
      }
    },
    {
      "cell_type": "code",
      "source": [
        "X_train, X_test, y_train, y_test= train_test_split(X,y, train_size=0.70, random_state=100)"
      ],
      "metadata": {
        "id": "QyCmsaVN8K4R"
      },
      "execution_count": null,
      "outputs": []
    },
    {
      "cell_type": "markdown",
      "source": [
        "3.Training the model on training set (i.e. learn the coefficient) Using StatsModels"
      ],
      "metadata": {
        "id": "zNumRhf-8RUv"
      }
    },
    {
      "cell_type": "code",
      "source": [
        "X_train_sm=sm.add_constant(X_train)\n",
        "\n",
        "X_train_sm.head()"
      ],
      "metadata": {
        "id": "eT2vtxI78RyM"
      },
      "execution_count": null,
      "outputs": []
    },
    {
      "cell_type": "markdown",
      "source": [
        "Training"
      ],
      "metadata": {
        "id": "hIEenP-q8U1K"
      }
    },
    {
      "cell_type": "code",
      "source": [
        "#fitting the model\n",
        "\n",
        "lr=sm.OLS(y_train, X_train_sm)\n",
        "\n",
        "lr_model=lr.fit()\n",
        "\n",
        "lr_model.params"
      ],
      "metadata": {
        "id": "zMuuHu7m8WL8"
      },
      "execution_count": null,
      "outputs": []
    },
    {
      "cell_type": "code",
      "source": [
        "lr_model.summary()"
      ],
      "metadata": {
        "id": "SC2972Tx8YTF"
      },
      "execution_count": null,
      "outputs": []
    },
    {
      "cell_type": "markdown",
      "source": [
        "OLS or Ordinary Least Squares is a useful method for evaluating a linear regression model.\n",
        "\n",
        "By default, the statsmodels library fits a line on the dataset which passes through the origin. But in order to have an intercept, you need to manually use the add_constant attribute of statsmodels. And once you've added the constant to your X_train dataset, you can go ahead and fit a regression line using the OLS (Ordinary Least Squares) attribute of statsmodels ."
      ],
      "metadata": {
        "id": "Eh7wiTMV8bJi"
      }
    },
    {
      "cell_type": "markdown",
      "source": [
        "Looking at some key statistics from the summary\n",
        "\n",
        "The values we are concerned with are -\n",
        "\n",
        "The coefficients and significance (p-values)\n",
        "\n",
        "R-squared\n",
        "\n",
        "F statistic and its significance\n",
        "\n",
        "1. The coefficient for TV is 0.054, with a very low p value\n",
        "\n",
        "The coefficient is statistically significant. So the association is not purely by chance.\n",
        "\n",
        "2. R - squared is 0.816\n",
        "\n",
        "Meaning that 81.6% of the variance in Sales is explained by TV\n",
        "\n",
        "This is a decent R-squared value.\n",
        "\n",
        "3. F statistic has a very low p value (practically low)\n",
        "\n",
        "Meaning that the model fit is statistically significant, and the explained variance isn't purely by chance."
      ],
      "metadata": {
        "id": "8gKiaMZp8gGM"
      }
    },
    {
      "cell_type": "code",
      "source": [
        "plt.scatter(X_train, y_train)"
      ],
      "metadata": {
        "id": "FkwLg7CF8h0u"
      },
      "execution_count": null,
      "outputs": []
    },
    {
      "cell_type": "code",
      "source": [
        "plt.scatter(X_train, y_train)\n",
        "\n",
        "plt.plot(X_train, 6.948+0.054*X_train,'r')\n",
        "\n",
        "plt.show()"
      ],
      "metadata": {
        "id": "2lUJneZm8i7P"
      },
      "execution_count": null,
      "outputs": []
    },
    {
      "cell_type": "markdown",
      "source": [
        "RESIDUAL ANALYSIS"
      ],
      "metadata": {
        "id": "QUXuy3vN8k5G"
      }
    },
    {
      "cell_type": "markdown",
      "source": [
        "To validate assumptions of the model, and hence the reliability for inference\n",
        "\n",
        "Distribution of the error terms\n",
        "\n",
        "We need to check if the error terms are also normally distributed (which is infact, one of the major assumptions of linear regression), let us plot the histogram of the error terms and see what it looks like."
      ],
      "metadata": {
        "id": "E2lhBOni8ni-"
      }
    },
    {
      "cell_type": "code",
      "source": [
        "# error=f(y_train, y_train_pred)\n",
        "\n",
        "y_train_pred=lr_model.predict(X_train_sm)"
      ],
      "metadata": {
        "id": "73mvokU78o5N"
      },
      "execution_count": null,
      "outputs": []
    },
    {
      "cell_type": "code",
      "source": [
        "y_train_pred"
      ],
      "metadata": {
        "id": "AwmRS0_u8qIu"
      },
      "execution_count": null,
      "outputs": []
    },
    {
      "cell_type": "code",
      "source": [
        "residual=y_train-y_train_pred\n",
        "\n",
        "residual"
      ],
      "metadata": {
        "id": "TkOy2pLY8rkl"
      },
      "execution_count": null,
      "outputs": []
    },
    {
      "cell_type": "code",
      "source": [
        "plt.figure()\n",
        "\n",
        "sns.displot(residual)\n",
        "\n",
        "plt.title(\"Residual Plot\")"
      ],
      "metadata": {
        "id": "VTKfB6JV8t4Y"
      },
      "execution_count": null,
      "outputs": []
    },
    {
      "cell_type": "markdown",
      "source": [
        "The residuals are following the normally distributed with a mean 0. All good!"
      ],
      "metadata": {
        "id": "JLBKafHm87Zl"
      }
    },
    {
      "cell_type": "code",
      "source": [
        "#Plotting residuals\n",
        "\n",
        "plt.scatter(X_train, residual)\n",
        "\n",
        "plt.show()"
      ],
      "metadata": {
        "id": "1y6eOz_x8zU3"
      },
      "execution_count": null,
      "outputs": []
    },
    {
      "cell_type": "markdown",
      "source": [
        "We can see that residuals are equally distributed which is quite good for the model."
      ],
      "metadata": {
        "id": "unp4WvwW854m"
      }
    },
    {
      "cell_type": "markdown",
      "source": [
        "Prediction and Evaluation of Model on Test Dataset"
      ],
      "metadata": {
        "id": "AjbM27Km84gw"
      }
    },
    {
      "cell_type": "code",
      "source": [
        "# Add a constant to X_test\n",
        "\n",
        "X_test_sm = sm.add_constant(X_test)\n",
        "\n",
        "\n",
        "\n",
        "# Predict the y values corresponding to X_test_sm\n",
        "\n",
        "y_pred = lr.predict(X_test_sm)\n",
        "\n",
        "from sklearn.metrics import mean_squared_error\n",
        "\n",
        "from sklearn.metrics import r2_score\n",
        "\n",
        "#RMSE\n",
        "\n",
        "np.sqrt(mean_squared_error(y_test, y_pred))\n",
        "\n",
        "r_squared = r2_score(y_test, y_pred)\n",
        "\n",
        "r_squared"
      ],
      "metadata": {
        "id": "oO6XVJ-P8-hN"
      },
      "execution_count": null,
      "outputs": []
    },
    {
      "cell_type": "code",
      "source": [
        "plt.scatter(X_test, y_test)\n",
        "\n",
        "plt.plot(X_test, 6.948 + 0.054 * X_test, 'r')\n",
        "\n",
        "plt.show()"
      ],
      "metadata": {
        "id": "WJFztzsS9E2L"
      },
      "execution_count": null,
      "outputs": []
    },
    {
      "cell_type": "markdown",
      "source": [
        "**Lines of interest! (Shortened version)**\n",
        "\n"
      ],
      "metadata": {
        "id": "0FbI9VFc8W0V"
      }
    },
    {
      "cell_type": "markdown",
      "source": [
        "If any of the following packages are  missing, you should install them first...\n",
        "\n",
        "Example: pip install package-name"
      ],
      "metadata": {
        "id": "nuo189FN9JrK"
      }
    },
    {
      "cell_type": "code",
      "source": [
        "#importing required Library\n",
        "\n",
        "import numpy as np\n",
        "\n",
        "import pandas as pd\n",
        "\n",
        "import matplotlib.pyplot as plt\n",
        "\n",
        "import seaborn as sns\n",
        "\n",
        "#model building Library\n",
        "\n",
        "import statsmodels\n",
        "\n",
        "import statsmodels.api as sm\n",
        "\n",
        "import sklearn\n",
        "\n",
        "from sklearn.model_selection import train_test_split"
      ],
      "metadata": {
        "id": "Ir1uI0uV9Hx4"
      },
      "execution_count": null,
      "outputs": []
    },
    {
      "cell_type": "code",
      "source": [
        "adv=pd.read_csv('https://raw.githubusercontent.com/Arunimad/CCIR_MLENG/main/advertising.csv')\n"
      ],
      "metadata": {
        "id": "rjsOGn_x8eEr"
      },
      "execution_count": null,
      "outputs": []
    },
    {
      "cell_type": "code",
      "source": [
        "X=adv['TV']\n",
        "\n",
        "y=adv['Sales']"
      ],
      "metadata": {
        "id": "nfn_HcKo8frT"
      },
      "execution_count": null,
      "outputs": []
    },
    {
      "cell_type": "code",
      "source": [
        "\n",
        "X_train, X_test, y_train, y_test= train_test_split(X,y, train_size=0.70, random_state=100)"
      ],
      "metadata": {
        "id": "PQasfI578hf1"
      },
      "execution_count": null,
      "outputs": []
    },
    {
      "cell_type": "code",
      "source": [
        "#fitting the model\n",
        "\n",
        "lr=sm.OLS(y_train, X_train)\n",
        "\n",
        "lr_model=lr.fit()\n",
        "\n"
      ],
      "metadata": {
        "id": "B5MoqAvU-Ihk"
      },
      "execution_count": null,
      "outputs": []
    },
    {
      "cell_type": "code",
      "source": [
        "lr_model.summary()"
      ],
      "metadata": {
        "id": "LwodOD678kaw"
      },
      "execution_count": null,
      "outputs": []
    },
    {
      "cell_type": "code",
      "source": [
        "y_pred=lr_model.predict(X_test)\n",
        "y_pred"
      ],
      "metadata": {
        "id": "BIDDvEOl8mir"
      },
      "execution_count": null,
      "outputs": []
    },
    {
      "cell_type": "code",
      "source": [
        "from sklearn.metrics import mean_squared_error\n",
        "\n",
        "from sklearn.metrics import r2_score\n",
        "\n",
        "#RMSE\n",
        "\n",
        "np.sqrt(mean_squared_error(y_test, y_pred))\n",
        "\n",
        "r_squared = r2_score(y_test, y_pred)\n",
        "\n",
        "r_squared"
      ],
      "metadata": {
        "id": "kj1g1Qe18psY"
      },
      "execution_count": null,
      "outputs": []
    },
    {
      "cell_type": "code",
      "source": [
        "y_pred = lr_model.predict(500)\n",
        "print(y_pred)\n"
      ],
      "metadata": {
        "id": "CnGYnjvJ8rr9"
      },
      "execution_count": null,
      "outputs": []
    },
    {
      "cell_type": "markdown",
      "source": [
        "**Assignment**\n",
        "\n",
        "\n",
        "Use the lines below as a template for penguins.csv assignment.\n",
        "\n",
        "Questions\n",
        "\n",
        "What is the ideal body mass given a penguin of bill length 40 mm\n",
        "What is the ideal body mass given a penguin of bill depth 20 mm\n",
        "Advanced question.\n",
        "\n",
        "What is the ideal body mass given a penguin of bill length 40 mm and bill depth 20 mm\n",
        "For better understanding,\n",
        "\n",
        "Try to use some more lines from the above (other than the shortened lines), in which you can see more pair plots and more details of the dataset you are handling. It is also advisable that you try to do more residual and accuracy measurements......"
      ],
      "metadata": {
        "id": "cnOheeXI80yD"
      }
    },
    {
      "cell_type": "code",
      "source": [
        "#importing required Library\n",
        "\n",
        "import numpy as np\n",
        "\n",
        "import pandas as pd\n",
        "\n",
        "import matplotlib.pyplot as plt\n",
        "\n",
        "import seaborn as sns\n",
        "\n",
        "#model building Library\n",
        "\n",
        "import statsmodels\n",
        "\n",
        "import statsmodels.api as sm\n",
        "\n",
        "import sklearn\n",
        "\n",
        "from sklearn.model_selection import train_test_split"
      ],
      "metadata": {
        "id": "4eQbtRHL7VmR"
      },
      "execution_count": null,
      "outputs": []
    }
  ]
}