{
  "nbformat": 4,
  "nbformat_minor": 0,
  "metadata": {
    "colab": {
      "provenance": [],
      "authorship_tag": "ABX9TyOYVtyva6CaaoynJHYBifJx",
      "include_colab_link": true
    },
    "kernelspec": {
      "name": "python3",
      "display_name": "Python 3"
    },
    "language_info": {
      "name": "python"
    }
  },
  "cells": [
    {
      "cell_type": "markdown",
      "metadata": {
        "id": "view-in-github",
        "colab_type": "text"
      },
      "source": [
        "<a href=\"https://colab.research.google.com/github/Arunimad/CCIR_MLENG/blob/main/Python_Intro.ipynb\" target=\"_parent\"><img src=\"https://colab.research.google.com/assets/colab-badge.svg\" alt=\"Open In Colab\"/></a>"
      ]
    },
    {
      "cell_type": "markdown",
      "source": [
        "# Simple math operations in Python"
      ],
      "metadata": {
        "id": "1OHpxlcQFZn8"
      }
    },
    {
      "cell_type": "markdown",
      "source": [
        "Numbers"
      ],
      "metadata": {
        "id": "xHdm0EeaJpHG"
      }
    },
    {
      "cell_type": "code",
      "source": [
        "1"
      ],
      "metadata": {
        "id": "5sMEhgnyJrJA",
        "colab": {
          "base_uri": "https://localhost:8080/"
        },
        "outputId": "bfc9964f-05cf-4a40-e4f6-0b7cd359abdf"
      },
      "execution_count": 1,
      "outputs": [
        {
          "output_type": "execute_result",
          "data": {
            "text/plain": [
              "1"
            ]
          },
          "metadata": {},
          "execution_count": 1
        }
      ]
    },
    {
      "cell_type": "markdown",
      "source": [
        "Strings"
      ],
      "metadata": {
        "id": "hY0fbh9YJuwu"
      }
    },
    {
      "cell_type": "code",
      "source": [
        "\"apple\""
      ],
      "metadata": {
        "id": "hX-I3FbKJwaK",
        "colab": {
          "base_uri": "https://localhost:8080/",
          "height": 35
        },
        "outputId": "8d28d010-a5b4-4be3-f6fb-a40f33c0224e"
      },
      "execution_count": 2,
      "outputs": [
        {
          "output_type": "execute_result",
          "data": {
            "text/plain": [
              "'apple'"
            ],
            "application/vnd.google.colaboratory.intrinsic+json": {
              "type": "string"
            }
          },
          "metadata": {},
          "execution_count": 2
        }
      ]
    },
    {
      "cell_type": "markdown",
      "source": [
        "List, dict, tuples"
      ],
      "metadata": {
        "id": "TTMEPaTeJ445"
      }
    },
    {
      "cell_type": "code",
      "source": [
        "[1, 2, 3]"
      ],
      "metadata": {
        "id": "k9EdXMmyJ7E9",
        "colab": {
          "base_uri": "https://localhost:8080/"
        },
        "outputId": "05621562-9b33-4a4e-832f-58262607ab86"
      },
      "execution_count": 3,
      "outputs": [
        {
          "output_type": "execute_result",
          "data": {
            "text/plain": [
              "[1, 2, 3]"
            ]
          },
          "metadata": {},
          "execution_count": 3
        }
      ]
    },
    {
      "cell_type": "code",
      "source": [
        "{\"apple\": \"a fruit\", \"banana\": \"an herb\", \"monkey\": \"a mammal\"}"
      ],
      "metadata": {
        "id": "k0jgPm_CJ8ni",
        "colab": {
          "base_uri": "https://localhost:8080/"
        },
        "outputId": "914bfcf6-03ef-45ec-cda0-dd45c0755c27"
      },
      "execution_count": 4,
      "outputs": [
        {
          "output_type": "execute_result",
          "data": {
            "text/plain": [
              "{'apple': 'a fruit', 'banana': 'an herb', 'monkey': 'a mammal'}"
            ]
          },
          "metadata": {},
          "execution_count": 4
        }
      ]
    },
    {
      "cell_type": "markdown",
      "source": [
        "Print"
      ],
      "metadata": {
        "id": "Dk_-f89lKCyT"
      }
    },
    {
      "cell_type": "code",
      "source": [
        "print(1)"
      ],
      "metadata": {
        "id": "BZn43sm0KEuM",
        "colab": {
          "base_uri": "https://localhost:8080/"
        },
        "outputId": "ad6e7d51-4e56-470a-db8d-235c88934e7b"
      },
      "execution_count": 5,
      "outputs": [
        {
          "output_type": "stream",
          "name": "stdout",
          "text": [
            "1\n"
          ]
        }
      ]
    },
    {
      "cell_type": "code",
      "source": [
        "print (5+2)"
      ],
      "metadata": {
        "colab": {
          "base_uri": "https://localhost:8080/"
        },
        "id": "nbFuEjvN9_1v",
        "outputId": "55c9d367-4ff8-4301-869e-277fd0cd96fd"
      },
      "execution_count": 6,
      "outputs": [
        {
          "output_type": "stream",
          "name": "stdout",
          "text": [
            "7\n"
          ]
        }
      ]
    },
    {
      "cell_type": "code",
      "source": [
        "print(\"Hello\")"
      ],
      "metadata": {
        "id": "1-Iwe-0rKG7x",
        "colab": {
          "base_uri": "https://localhost:8080/"
        },
        "outputId": "77c91ec0-29d0-4cd7-9bba-c453b780493f"
      },
      "execution_count": 7,
      "outputs": [
        {
          "output_type": "stream",
          "name": "stdout",
          "text": [
            "Hello\n"
          ]
        }
      ]
    },
    {
      "cell_type": "markdown",
      "source": [
        "Addition"
      ],
      "metadata": {
        "id": "CE8t41MHFdh4"
      }
    },
    {
      "cell_type": "code",
      "execution_count": 8,
      "metadata": {
        "id": "uBvnU5J-FQVV",
        "colab": {
          "base_uri": "https://localhost:8080/"
        },
        "outputId": "09d9fa4e-20fb-4763-c9da-37e926f2891d"
      },
      "outputs": [
        {
          "output_type": "stream",
          "name": "stdout",
          "text": [
            "5\n"
          ]
        }
      ],
      "source": [
        "val1 = 2\n",
        "val2 = 3\n",
        "\n",
        "# using the addition operator\n",
        "res = val1 + val2\n",
        "print(res)\n"
      ]
    },
    {
      "cell_type": "markdown",
      "source": [
        "Subtraction"
      ],
      "metadata": {
        "id": "VFI0ZS4_Q1D5"
      }
    },
    {
      "cell_type": "code",
      "source": [
        "val1 = 2\n",
        "val2 = 3\n",
        "\n",
        "# using the subtraction operator\n",
        "res = val1 - val2\n",
        "print(res)\n"
      ],
      "metadata": {
        "id": "uhXWXLOjFh7z",
        "colab": {
          "base_uri": "https://localhost:8080/"
        },
        "outputId": "3609bbed-5d10-4e81-cc8c-1f2ade5733e7"
      },
      "execution_count": 9,
      "outputs": [
        {
          "output_type": "stream",
          "name": "stdout",
          "text": [
            "-1\n"
          ]
        }
      ]
    },
    {
      "cell_type": "markdown",
      "source": [
        "Multiplication"
      ],
      "metadata": {
        "id": "xrWZA0nZFksk"
      }
    },
    {
      "cell_type": "code",
      "source": [
        "val1 = 2\n",
        "val2 = 3\n",
        "\n",
        "# using the multiplication operator\n",
        "res = val1 * val2\n",
        "print(res)\n"
      ],
      "metadata": {
        "id": "lA0UO2N-FkWo",
        "colab": {
          "base_uri": "https://localhost:8080/"
        },
        "outputId": "79a62319-e56e-480f-d7ae-a5d0fdf7e2f0"
      },
      "execution_count": 10,
      "outputs": [
        {
          "output_type": "stream",
          "name": "stdout",
          "text": [
            "6\n"
          ]
        }
      ]
    },
    {
      "cell_type": "markdown",
      "source": [
        "Division"
      ],
      "metadata": {
        "id": "nR8Mav7qFoul"
      }
    },
    {
      "cell_type": "code",
      "source": [
        "val1 = 3\n",
        "val2 = 2\n",
        "\n",
        "# using the division operator\n",
        "res = val1 / val2\n",
        "print(res)\n",
        "\n"
      ],
      "metadata": {
        "id": "hLdyNoYuFp8t",
        "colab": {
          "base_uri": "https://localhost:8080/"
        },
        "outputId": "ab4d7653-806a-4cef-a107-461c703882ff"
      },
      "execution_count": 11,
      "outputs": [
        {
          "output_type": "stream",
          "name": "stdout",
          "text": [
            "1.5\n"
          ]
        }
      ]
    },
    {
      "cell_type": "markdown",
      "source": [
        "Floor division"
      ],
      "metadata": {
        "id": "5gcsG9hvFw-W"
      }
    },
    {
      "cell_type": "code",
      "source": [
        "val1 = 3\n",
        "val2 = 2\n",
        "\n",
        "# using the floor division\n",
        "res = val1 // val2\n",
        "print(res)\n"
      ],
      "metadata": {
        "id": "pXAKvViDFyTB",
        "colab": {
          "base_uri": "https://localhost:8080/"
        },
        "outputId": "1c6b95b3-d530-47e1-c6a1-787fc64e85d2"
      },
      "execution_count": 12,
      "outputs": [
        {
          "output_type": "stream",
          "name": "stdout",
          "text": [
            "1\n"
          ]
        }
      ]
    },
    {
      "cell_type": "markdown",
      "source": [
        "Modulus"
      ],
      "metadata": {
        "id": "Zp0Q8Ah9F1pA"
      }
    },
    {
      "cell_type": "code",
      "source": [
        "val1 = 3\n",
        "val2 = 2\n",
        "\n",
        "# using the modulus operator\n",
        "res = val1 % val2\n",
        "print(res)\n"
      ],
      "metadata": {
        "id": "rW1_Jq3fF2hB",
        "colab": {
          "base_uri": "https://localhost:8080/"
        },
        "outputId": "3153abba-b044-4ca0-c47d-fe05e0ba7e5f"
      },
      "execution_count": 13,
      "outputs": [
        {
          "output_type": "stream",
          "name": "stdout",
          "text": [
            "1\n"
          ]
        }
      ]
    },
    {
      "cell_type": "markdown",
      "source": [
        "Exponent"
      ],
      "metadata": {
        "id": "0AJwgG3TF5BF"
      }
    },
    {
      "cell_type": "code",
      "source": [
        "val1 = 2\n",
        "val2 = 3\n",
        "\n",
        "# using the exponentiation operator\n",
        "res = val1 ** val2\n",
        "print(res)\n"
      ],
      "metadata": {
        "id": "fc-NAKePF5-C",
        "colab": {
          "base_uri": "https://localhost:8080/"
        },
        "outputId": "28b83010-fa62-42f8-c432-bb330b2efaba"
      },
      "execution_count": 14,
      "outputs": [
        {
          "output_type": "stream",
          "name": "stdout",
          "text": [
            "8\n"
          ]
        }
      ]
    },
    {
      "cell_type": "markdown",
      "source": [
        "Defining functions"
      ],
      "metadata": {
        "id": "wma5-N8ZKOR_"
      }
    },
    {
      "cell_type": "code",
      "source": [
        "def plus(a, b):\n",
        "    return a + b\n",
        "\n",
        "plus(1, 2)"
      ],
      "metadata": {
        "id": "SVGnnQwrKNOQ",
        "colab": {
          "base_uri": "https://localhost:8080/"
        },
        "outputId": "2cec0090-9797-4c0c-fbaf-b62b7a638248"
      },
      "execution_count": 15,
      "outputs": [
        {
          "output_type": "execute_result",
          "data": {
            "text/plain": [
              "3"
            ]
          },
          "metadata": {},
          "execution_count": 15
        }
      ]
    },
    {
      "cell_type": "markdown",
      "source": [
        "Conditionals"
      ],
      "metadata": {
        "id": "5bydWeZoKilg"
      }
    },
    {
      "cell_type": "markdown",
      "source": [
        "If-Else"
      ],
      "metadata": {
        "id": "ligtDZ5lKo8g"
      }
    },
    {
      "cell_type": "code",
      "execution_count": 16,
      "metadata": {
        "id": "QEgB4bJ2KaZp",
        "colab": {
          "base_uri": "https://localhost:8080/"
        },
        "outputId": "35481e05-02b5-4604-abe3-18a1513faedd"
      },
      "outputs": [
        {
          "output_type": "stream",
          "name": "stdout",
          "text": [
            "statement1 and statement2 are False\n"
          ]
        }
      ],
      "source": [
        "statement1 = False\n",
        "statement2 = False\n",
        "\n",
        "if statement1:\n",
        "    print(\"statement1 is True\")\n",
        "\n",
        "elif statement2:\n",
        "    print(\"statement2 is True\")\n",
        "\n",
        "else:\n",
        "    print(\"statement1 and statement2 are False\")"
      ]
    },
    {
      "cell_type": "markdown",
      "source": [
        "For loop"
      ],
      "metadata": {
        "id": "2YvoDs6TKq2l"
      }
    },
    {
      "cell_type": "code",
      "execution_count": 17,
      "metadata": {
        "id": "wAza9LwEKaZs",
        "colab": {
          "base_uri": "https://localhost:8080/"
        },
        "outputId": "c570cf6a-ad86-4660-c5ba-0b9e6ab71cc0"
      },
      "outputs": [
        {
          "output_type": "stream",
          "name": "stdout",
          "text": [
            "1\n",
            "2\n",
            "3\n"
          ]
        }
      ],
      "source": [
        "for x in [1,2,3]:\n",
        "    print(x)"
      ]
    },
    {
      "cell_type": "code",
      "execution_count": 18,
      "metadata": {
        "id": "aFSCOXOLKaZt",
        "colab": {
          "base_uri": "https://localhost:8080/"
        },
        "outputId": "7174b5f8-6ef9-44a7-db71-9c3ab0a0ee5d"
      },
      "outputs": [
        {
          "output_type": "stream",
          "name": "stdout",
          "text": [
            "0\n",
            "1\n",
            "2\n",
            "3\n"
          ]
        }
      ],
      "source": [
        "for x in range(4): # by default range start at 0\n",
        "    print(x)"
      ]
    },
    {
      "cell_type": "code",
      "execution_count": 19,
      "metadata": {
        "id": "9eQGmfF8KaZt",
        "colab": {
          "base_uri": "https://localhost:8080/"
        },
        "outputId": "9025ee1e-bb22-4da0-e474-31c253f11bc2"
      },
      "outputs": [
        {
          "output_type": "stream",
          "name": "stdout",
          "text": [
            "scientific\n",
            "computing\n",
            "with\n",
            "python\n"
          ]
        }
      ],
      "source": [
        "for word in [\"scientific\", \"computing\", \"with\", \"python\"]:\n",
        "    print(word)"
      ]
    },
    {
      "cell_type": "markdown",
      "source": [
        "Classes"
      ],
      "metadata": {
        "id": "xB34WegJLEEn"
      }
    },
    {
      "cell_type": "markdown",
      "metadata": {
        "id": "qIvWJQipKaZy"
      },
      "source": [
        "Classes are the key features of object-oriented programming. A class is a structure for representing an object and the operations that can be performed on the object.\n",
        "\n",
        "In Python a class can contain *attributes* (variables) and *methods* (functions).\n",
        "\n",
        "A class is defined almost like a function, but using the `class` keyword, and the class definition usually contains a number of class method definitions (a function in a class).\n",
        "\n",
        "* Each class method should have an argument `self` as its first argument. This object is a self-reference.\n",
        "\n",
        "* Some class method names have special meaning, for example:\n",
        "\n",
        "    * `__init__`: The name of the method that is invoked when the object is first created.\n",
        "    * `__str__` : A method that is invoked when a simple string representation of the class is needed, as for example when printed.\n",
        "    * There are many more, see http://docs.python.org/2/reference/datamodel.html#special-method-names"
      ]
    },
    {
      "cell_type": "code",
      "execution_count": 20,
      "metadata": {
        "id": "tria6YpBKaZy"
      },
      "outputs": [],
      "source": [
        "class Point:\n",
        "    \"\"\"\n",
        "    Simple class for representing a point in a Cartesian coordinate system.\n",
        "    \"\"\"\n",
        "\n",
        "    def __init__(self, x, y):\n",
        "        \"\"\"\n",
        "        Create a new Point at x, y.\n",
        "        \"\"\"\n",
        "        self.x = x\n",
        "        self.y = y\n",
        "\n",
        "    def translate(self, dx, dy):\n",
        "        \"\"\"\n",
        "        Translate the point by dx and dy in the x and y direction.\n",
        "        \"\"\"\n",
        "        self.x += dx\n",
        "        self.y += dy\n",
        "\n",
        "    def __str__(self):\n",
        "        return(\"Point at [%f, %f]\" % (self.x, self.y))"
      ]
    },
    {
      "cell_type": "code",
      "execution_count": 21,
      "metadata": {
        "id": "KRhWRSowKaZy",
        "colab": {
          "base_uri": "https://localhost:8080/"
        },
        "outputId": "063f4fde-8783-471d-f86c-c3930a4dd40b"
      },
      "outputs": [
        {
          "output_type": "stream",
          "name": "stdout",
          "text": [
            "Point at [0.000000, 0.000000]\n"
          ]
        }
      ],
      "source": [
        "p1 = Point(0, 0) # this will invoke the __init__ method in the Point class\n",
        "\n",
        "print(p1)         # this will invoke the __str__ method"
      ]
    },
    {
      "cell_type": "markdown",
      "source": [
        "Derivatives - using sympy"
      ],
      "metadata": {
        "id": "amP01sdHGFEK"
      }
    },
    {
      "cell_type": "code",
      "source": [
        "pip install sympy"
      ],
      "metadata": {
        "id": "w9CifKHbGOt0",
        "colab": {
          "base_uri": "https://localhost:8080/"
        },
        "outputId": "721ff428-3fb6-4b10-a2dc-f22ad145bcb9"
      },
      "execution_count": 22,
      "outputs": [
        {
          "output_type": "stream",
          "name": "stdout",
          "text": [
            "Requirement already satisfied: sympy in /usr/local/lib/python3.10/dist-packages (1.13.1)\n",
            "Requirement already satisfied: mpmath<1.4,>=1.1.0 in /usr/local/lib/python3.10/dist-packages (from sympy) (1.3.0)\n"
          ]
        }
      ]
    },
    {
      "cell_type": "code",
      "source": [
        "import sympy\n",
        "from sympy import *\n",
        "\n",
        "x, y = symbols('x y')\n",
        "expr = x**2 + 2 * y + y**3\n",
        "print(\"Expression : {}\".format(expr))\n",
        "\n",
        "\n"
      ],
      "metadata": {
        "id": "er2XlJFJGG7U"
      },
      "execution_count": null,
      "outputs": []
    },
    {
      "cell_type": "code",
      "source": [
        "# Use sympy.Derivative() method\n",
        "expr_diff = Derivative(expr, x)\n",
        "\n",
        "print(\"Derivative of expression with respect to x : {}\".format(expr_diff))\n",
        "print(\"Value of the derivative : {}\".format(expr_diff.doit()))"
      ],
      "metadata": {
        "id": "ztKD9WqzVwfi"
      },
      "execution_count": null,
      "outputs": []
    },
    {
      "cell_type": "markdown",
      "source": [
        "Derivatives - using numpy"
      ],
      "metadata": {
        "id": "JWg3gf7AG8DD"
      }
    },
    {
      "cell_type": "code",
      "source": [
        "import numpy\n",
        "\n",
        "x = numpy.linspace(0,10,10)\n",
        "dx = x[1]-x[0]\n",
        "y = x**2 + 1\n",
        "dydx = numpy.gradient(y, dx)\n",
        "print (dydx)"
      ],
      "metadata": {
        "id": "grg_G6zSGamY"
      },
      "execution_count": null,
      "outputs": []
    },
    {
      "cell_type": "markdown",
      "source": [
        "Derviatives using autograd (popular with ML community)"
      ],
      "metadata": {
        "id": "9lu4V-dcHAwy"
      }
    },
    {
      "cell_type": "code",
      "source": [
        "pip install autograd"
      ],
      "metadata": {
        "id": "-fkZVT8YHEuB"
      },
      "execution_count": null,
      "outputs": []
    },
    {
      "cell_type": "code",
      "source": [
        "import autograd.numpy as np\n",
        "from autograd import grad\n",
        "\n",
        "def fct(x):\n",
        "    y = x**2+1,\n",
        "    return y\n",
        "\n",
        "\n"
      ],
      "metadata": {
        "id": "oEAAJ-d7HGvh"
      },
      "execution_count": null,
      "outputs": []
    },
    {
      "cell_type": "code",
      "source": [
        "grad_fct = grad(fct)\n",
        "print(grad_fct(1.0))"
      ],
      "metadata": {
        "id": "CabcxA7QXEOx"
      },
      "execution_count": null,
      "outputs": []
    },
    {
      "cell_type": "code",
      "source": [
        "from scipy.optimize import minimize\n",
        "\n",
        "\n",
        "def f(x):\n",
        "    return x**2 + np.exp(-7 * x**2)\n",
        "\n",
        "\n",
        "guess = 0.5\n",
        "sol = minimize(f, guess)\n",
        "sol"
      ],
      "metadata": {
        "id": "KDSKqxw3YZnY"
      },
      "execution_count": null,
      "outputs": []
    },
    {
      "cell_type": "code",
      "source": [
        "from scipy.optimize import minimize\n",
        "\n",
        "\n",
        "def f(x):\n",
        "    return x**2 + np.exp(-7 * x**2)\n",
        "\n",
        "\n",
        "guess = 0.5\n",
        "sol = minimize(f, guess, tol = 0.0000001)\n",
        "sol"
      ],
      "metadata": {
        "id": "z7c6MbQfCEIt"
      },
      "execution_count": null,
      "outputs": []
    },
    {
      "cell_type": "markdown",
      "source": [
        "lets try higher order derivatives using numpy.gradient recursively ..."
      ],
      "metadata": {
        "id": "ATcluE2nI1Ha"
      }
    },
    {
      "cell_type": "markdown",
      "source": [
        "1st derivative ...dydx...."
      ],
      "metadata": {
        "id": "JqIC1jE5I8d7"
      }
    },
    {
      "cell_type": "code",
      "source": [
        "import numpy\n",
        "\n",
        "x = numpy.linspace(0,10,10)\n",
        "dx = x[1]-x[0]\n",
        "y = x**2 + 1\n",
        "dydx = numpy.gradient(y, dx)\n",
        "print (dydx)"
      ],
      "metadata": {
        "id": "AOjoKQYEI6n_"
      },
      "execution_count": null,
      "outputs": []
    },
    {
      "cell_type": "code",
      "source": [
        "import numpy\n",
        "\n",
        "x = numpy.linspace(0,10,10)\n",
        "dx = x[1]-x[0]\n",
        "y = dydx\n",
        "dydx2 = numpy.gradient(y, dx)\n",
        "print (dydx2)"
      ],
      "metadata": {
        "id": "1_AGmsCWJkVT"
      },
      "execution_count": null,
      "outputs": []
    },
    {
      "cell_type": "code",
      "source": [
        "import numpy\n",
        "\n",
        "x = numpy.linspace(0,10,10)\n",
        "dx = x[1]-x[0]\n",
        "dydx3 = dydx2\n",
        "dydx3 = numpy.gradient(y, dx)\n",
        "print (dydx3)"
      ],
      "metadata": {
        "id": "YFOfraKVJyEL"
      },
      "execution_count": null,
      "outputs": []
    },
    {
      "cell_type": "markdown",
      "source": [
        "Lists"
      ],
      "metadata": {
        "id": "VXsFRytqQKT9"
      }
    },
    {
      "cell_type": "code",
      "metadata": {
        "id": "OrnV1ySAPtHp"
      },
      "source": [
        "my_list = []"
      ],
      "execution_count": null,
      "outputs": []
    },
    {
      "cell_type": "code",
      "metadata": {
        "id": "Uq5YTJ1JXpOX"
      },
      "source": [
        "my_list = [1, 2, 3]"
      ],
      "execution_count": null,
      "outputs": []
    },
    {
      "cell_type": "code",
      "metadata": {
        "id": "QFTNqiYiXxAh"
      },
      "source": [
        "my_list.append(4)\n",
        "my_list"
      ],
      "execution_count": null,
      "outputs": []
    },
    {
      "cell_type": "code",
      "metadata": {
        "id": "pyFxyZPVYpG_"
      },
      "source": [
        "my_list[2]"
      ],
      "execution_count": null,
      "outputs": []
    },
    {
      "cell_type": "code",
      "metadata": {
        "id": "Ichf9p0gd7tJ"
      },
      "source": [
        "my_list[1:3]"
      ],
      "execution_count": null,
      "outputs": []
    },
    {
      "cell_type": "markdown",
      "source": [
        "Strings"
      ],
      "metadata": {
        "id": "1SqJT2RZQbef"
      }
    },
    {
      "cell_type": "code",
      "metadata": {
        "id": "cCma6Oj_7T8n"
      },
      "source": [
        "string1 = \"some text\"\n",
        "string2 = 'some other text'"
      ],
      "execution_count": null,
      "outputs": []
    },
    {
      "cell_type": "code",
      "metadata": {
        "id": "mxqNMKCY79_W"
      },
      "source": [
        "string1 + \" \" + string2"
      ],
      "execution_count": null,
      "outputs": []
    },
    {
      "cell_type": "markdown",
      "source": [
        "Conditionals"
      ],
      "metadata": {
        "id": "5epzqv9-Qho9"
      }
    },
    {
      "cell_type": "code",
      "metadata": {
        "id": "xC_DMZjofoYZ"
      },
      "source": [
        "my_variable = 5\n",
        "if my_variable < 0:\n",
        "  print(\"negative\")\n",
        "elif my_variable == 0:\n",
        "  print(\"null\")\n",
        "else: # my_variable > 0\n",
        "  print(\"positive\")"
      ],
      "execution_count": null,
      "outputs": []
    },
    {
      "cell_type": "markdown",
      "source": [
        "Loops"
      ],
      "metadata": {
        "id": "5JdcbMCmQll1"
      }
    },
    {
      "cell_type": "code",
      "metadata": {
        "id": "7-QXGqgOjsr_"
      },
      "source": [
        "i = 0\n",
        "while i < len(my_list):\n",
        "  print(my_list[i])\n",
        "  i += 1 # equivalent to i = i + 1"
      ],
      "execution_count": null,
      "outputs": []
    },
    {
      "cell_type": "code",
      "metadata": {
        "id": "2QObx5mckMcI"
      },
      "source": [
        "for i in range(len(my_list)):\n",
        "  print(my_list[i])"
      ],
      "execution_count": null,
      "outputs": []
    },
    {
      "cell_type": "markdown",
      "source": [
        "Functions"
      ],
      "metadata": {
        "id": "R8BJ5WnuQtR7"
      }
    },
    {
      "cell_type": "code",
      "metadata": {
        "id": "cImA09gOhRmx"
      },
      "source": [
        "def square(x):\n",
        "  return x ** 2\n",
        "\n",
        "def multiply(a, b):\n",
        "  return a * b\n",
        "\n",
        "# Functions can be composed.\n",
        "square(multiply(3, 2))"
      ],
      "execution_count": null,
      "outputs": []
    },
    {
      "cell_type": "markdown",
      "source": [
        "http://www.python.org - The official web page of the Python programming language.\n",
        "\n",
        "http://www.python.org/dev/peps/pep-0008 - Style guide for Python programming. Highly recommended.\n",
        "\n",
        "http://www.greenteapress.com/thinkpython/ - A free book on Python programming.\n",
        "Python Essential Reference - A good reference book on Python programming."
      ],
      "metadata": {
        "id": "3sgDsNnYLkUP"
      }
    },
    {
      "cell_type": "markdown",
      "source": [
        "Matplot lib"
      ],
      "metadata": {
        "id": "1h2DVMRh0EOc"
      }
    },
    {
      "cell_type": "code",
      "source": [
        "import pandas as pd\n",
        "\n",
        "nvda_data = pd.read_csv('https://raw.githubusercontent.com/Arunimad/CCIR_ChatGPT_AI-Linguistics/main/datasets/NVDA.csv')\n",
        "nvda_data.head()"
      ],
      "metadata": {
        "id": "9bci9D9r0I9u"
      },
      "execution_count": null,
      "outputs": []
    },
    {
      "cell_type": "code",
      "source": [
        "nvda_data['Date'] = pd.to_datetime(nvda_data['Date'])\n",
        "nvda_data = nvda_data.sort_values(by = 'Date')"
      ],
      "metadata": {
        "id": "LrRrViGc0W8B"
      },
      "execution_count": null,
      "outputs": []
    },
    {
      "cell_type": "code",
      "source": [
        "import matplotlib.pyplot as plt\n",
        "import pandas as pd\n",
        "import numpy as np\n",
        "from datetime import datetime"
      ],
      "metadata": {
        "id": "IOZj8oFg0a88"
      },
      "execution_count": null,
      "outputs": []
    },
    {
      "cell_type": "markdown",
      "source": [
        "Line plots with single line:"
      ],
      "metadata": {
        "id": "UAa0jIo20_Fk"
      }
    },
    {
      "cell_type": "code",
      "source": [
        "plt.plot(nvda_data['Date'], nvda_data['Close'])\n",
        "plt.show()"
      ],
      "metadata": {
        "id": "RyVUiZxM0ceM"
      },
      "execution_count": null,
      "outputs": []
    },
    {
      "cell_type": "markdown",
      "source": [
        "Line plots with multiple lines:"
      ],
      "metadata": {
        "id": "wdSffEps1EjS"
      }
    },
    {
      "cell_type": "code",
      "source": [
        "plt.plot(nvda_data['Date'], nvda_data['Open'])\n",
        "plt.plot(nvda_data['Date'], nvda_data['Close'])\n",
        "\n",
        "\n",
        "plt.show()"
      ],
      "metadata": {
        "id": "ag71CkFj00KE"
      },
      "execution_count": null,
      "outputs": []
    },
    {
      "cell_type": "markdown",
      "source": [
        "Adding legends"
      ],
      "metadata": {
        "id": "fpsrCJqZ1KIY"
      }
    },
    {
      "cell_type": "code",
      "source": [
        "plt.plot(nvda_data['Date'], nvda_data['Open'], label = 'Open')\n",
        "plt.plot(nvda_data['Date'], nvda_data['Close'], label = 'Close')\n",
        "plt.legend()\n",
        "plt.show()"
      ],
      "metadata": {
        "id": "LFslsgpi1Lpn"
      },
      "execution_count": null,
      "outputs": []
    },
    {
      "cell_type": "markdown",
      "source": [
        "Bar plots"
      ],
      "metadata": {
        "id": "IEKNtXp51T8B"
      }
    },
    {
      "cell_type": "code",
      "source": [
        "# Import the calendar package\n",
        "from calendar import month_name\n",
        "\n",
        "# Order by months by chronological order\n",
        "nvda_data['Month'] = pd.Categorical(nvda_data['Date'].dt.month_name(), month_name[1:])\n",
        "\n",
        "# Group metrics by monthly averages\n",
        "nvda_monthly_mean = nvda_data \\\n",
        "    .groupby('Month') \\\n",
        "    .mean() \\\n",
        "    .reset_index()\n",
        "\n",
        "\n",
        "nvda_monthly_mean.head(6)"
      ],
      "metadata": {
        "id": "0-irE6aj1V2B"
      },
      "execution_count": null,
      "outputs": []
    },
    {
      "cell_type": "code",
      "source": [
        "plt.bar(nvda_monthly_mean['Month'], height = nvda_monthly_mean['Close'])\n",
        "plt.show()"
      ],
      "metadata": {
        "id": "D_gukiUs12Iw"
      },
      "execution_count": null,
      "outputs": []
    },
    {
      "cell_type": "code",
      "source": [
        "plt.barh(nvda_monthly_mean['Month'], width = nvda_monthly_mean['Close'])\n",
        "plt.show()"
      ],
      "metadata": {
        "id": "JJ-Bpc0T2Co1"
      },
      "execution_count": null,
      "outputs": []
    },
    {
      "cell_type": "markdown",
      "source": [
        "Scatter plots"
      ],
      "metadata": {
        "id": "mpzSy7TI2tla"
      }
    },
    {
      "cell_type": "code",
      "source": [
        "plt.scatter(nvda_data['Open'], nvda_data['Close'])\n",
        "plt.show()"
      ],
      "metadata": {
        "id": "cVqbdAyP2tOD"
      },
      "execution_count": null,
      "outputs": []
    },
    {
      "cell_type": "markdown",
      "source": [
        "Scatter plot with a trend line"
      ],
      "metadata": {
        "id": "LKnkJ5xL20WL"
      }
    },
    {
      "cell_type": "code",
      "source": [
        "z = np.polyfit(nvda_data['Open'], nvda_data['Close'], 1)\n",
        "p = np.poly1d(z)\n",
        "\n",
        "\n",
        "plt.scatter(nvda_data['Open'], nvda_data['Close'])\n",
        "plt.plot(nvda_data['Open'], p(nvda_data['Open']))\n",
        "plt.show()"
      ],
      "metadata": {
        "id": "QHnqs14q22Ua"
      },
      "execution_count": null,
      "outputs": []
    },
    {
      "cell_type": "markdown",
      "source": [
        "Changing colors"
      ],
      "metadata": {
        "id": "4eUSjDil3WUh"
      }
    },
    {
      "cell_type": "code",
      "source": [
        "plt.plot(nvda_data['Date'], nvda_data['Open'], color = 'black')\n",
        "plt.plot(nvda_data['Date'], nvda_data['Close'], color = 'red')\n",
        "plt.show()"
      ],
      "metadata": {
        "id": "6qSEUJGE3YE5"
      },
      "execution_count": null,
      "outputs": []
    },
    {
      "cell_type": "code",
      "source": [
        "plt.bar(nvda_monthly_mean['Month'], height = nvda_monthly_mean['Close'], color = ['blue', 'gray', 'gray', 'red', 'gray', 'gray'])\n",
        "plt.show()"
      ],
      "metadata": {
        "id": "Xq1bjqOP3fjL"
      },
      "execution_count": null,
      "outputs": []
    },
    {
      "cell_type": "code",
      "source": [
        "plt.scatter(nvda_data[nvda_data['Month'] == 'January']['Open'], djia_data[nvda_data['Month'] == 'January']['Close'], color = 'blue')\n",
        "\n",
        "plt.scatter(nvda_data[nvda_data['Month'] != 'January']['Open'], nvda_data[nvda_data['Month'] != 'January']['Close'], color = 'gray')\n",
        "\n",
        "plt.show()"
      ],
      "metadata": {
        "id": "fV4coBxp3s8a"
      },
      "execution_count": null,
      "outputs": []
    },
    {
      "cell_type": "markdown",
      "source": [
        "ColourMaps"
      ],
      "metadata": {
        "id": "VyxF3qFU337O"
      }
    },
    {
      "cell_type": "code",
      "source": [
        "plt.scatter(nvda_data['Open'], nvda_data['Close'], c=nvda_data['Close'], cmap = plt.cm.plasma)\n",
        "\n",
        "plt.show()"
      ],
      "metadata": {
        "id": "5Pfz0kX035Tz"
      },
      "execution_count": null,
      "outputs": []
    },
    {
      "cell_type": "markdown",
      "source": [
        "Pie Charts"
      ],
      "metadata": {
        "id": "IoV_4FOP4SiI"
      }
    },
    {
      "cell_type": "code",
      "source": [
        "import matplotlib.pyplot as plt\n",
        "# data to display on plots\n",
        "x = [1, 2, 3, 4]\n",
        "\n",
        "# this will explode the 1st wedge\n",
        "# i.e. will separate the 1st wedge\n",
        "# from the chart\n",
        "e  =(0.1, 0, 0, 0)\n",
        "\n",
        "# This will plot a simple pie chart\n",
        "plt.pie(x, explode = e)\n",
        "\n",
        "# Title to the plot\n",
        "plt.title(\"Pie chart\")\n",
        "plt.show()\n"
      ],
      "metadata": {
        "id": "4eSKfkNE4TlA"
      },
      "execution_count": null,
      "outputs": []
    },
    {
      "cell_type": "markdown",
      "source": [
        "Stack plots"
      ],
      "metadata": {
        "id": "T0i_PsSl4XhX"
      }
    },
    {
      "cell_type": "code",
      "source": [
        "import matplotlib.pyplot as plt\n",
        "\n",
        "# List of Days\n",
        "days = [1, 2, 3, 4, 5]\n",
        "\n",
        "# No of Study Hours\n",
        "Studying = [7, 8, 6, 11, 7]\n",
        "\n",
        "# No of Playing Hours\n",
        "playing = [8, 5, 7, 8, 13]\n",
        "\n",
        "# Stackplot with X, Y, colors value\n",
        "plt.stackplot(days, Studying, playing,\n",
        "            colors =['r', 'c'])\n",
        "\n",
        "# Days\n",
        "plt.xlabel('Days')\n",
        "\n",
        "# No of hours\n",
        "plt.ylabel('No of Hours')\n",
        "\n",
        "# Title of Graph\n",
        "plt.title('Representation of Study and \\\n",
        "Playing wrt to Days')\n",
        "\n",
        "# Displaying Graph\n",
        "plt.show()\n"
      ],
      "metadata": {
        "id": "jHG-YDt_4YYY"
      },
      "execution_count": null,
      "outputs": []
    },
    {
      "cell_type": "markdown",
      "source": [
        "3D plots"
      ],
      "metadata": {
        "id": "S2YWzZdM4Mcn"
      }
    },
    {
      "cell_type": "code",
      "source": [
        "import matplotlib.pyplot as plt\n",
        "# Creating the figure object\n",
        "fig = plt.figure()\n",
        "\n",
        "# keeping the projection = 3d\n",
        "# creates the 3d plot\n",
        "ax = plt.axes(projection = '3d')\n"
      ],
      "metadata": {
        "id": "lxYGvchO4MLY"
      },
      "execution_count": null,
      "outputs": []
    },
    {
      "cell_type": "code",
      "source": [
        "import matplotlib.pyplot as plt\n",
        "x = [1, 2, 3, 4, 5]\n",
        "y = [1, 4, 9, 16, 25]\n",
        "z = [1, 8, 27, 64, 125]\n",
        "# Creating the figure object\n",
        "fig = plt.figure()\n",
        "# keeping the projection = 3d\n",
        "# creates the 3d plot\n",
        "ax = plt.axes(projection = '3d')\n",
        "ax.plot3D(z, y, x)\n"
      ],
      "metadata": {
        "id": "omMG2IRP4PT0"
      },
      "execution_count": null,
      "outputs": []
    }
  ]
}